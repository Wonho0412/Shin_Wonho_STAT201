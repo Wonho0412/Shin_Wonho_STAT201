{
 "cells": [
  {
   "cell_type": "raw",
   "metadata": {
    "vscode": {
     "languageId": "raw"
    }
   },
   "source": [
    "---\n",
    "title: \"Assignment 2\"\n",
    "subtitle: \"STAT 201\"\n",
    "author: \"Wonho Shin\"\n",
    "format:\n",
    "  html:\n",
    "    toc: true\n",
    "    embed-resources: true\n",
    "---"
   ]
  },
  {
   "cell_type": "markdown",
   "metadata": {},
   "source": [
    "### Instructions"
   ]
  },
  {
   "cell_type": "markdown",
   "metadata": {},
   "source": [
    "1. **Write your name** on the assignment.\n",
    "\n",
    "2. Write your code in the *Code* cells of the **template provided** to write solutions for the assignment. **Do not open a new notebook**, and work from scratch. Ensure that the solution is written neatly enough to understand and grade.\n",
    "\n",
    "3. Use [Quarto](https://quarto.org/docs/output-formats/html-basics.html) to print the *.ipynb* file as HTML. You will need to open the command prompt, navigate to the directory containing the file, and use the command: `quarto render filename.ipynb --to html`. Submit the HTML file.\n",
    "\n",
    "4. You may talk to a friend, discuss the questions and potential directions for solving them. However, you need to write your own solutions and code separately, and not as a group activity. Do not use AI to solve the problems.\n",
    "\n",
    "5. There are 2 points for cleanliness and organization. The breakdown is as follows:\n",
    "    - Must be an HTML file rendered using Quarto. \n",
    "    - There aren’t excessively long outputs of extraneous information (e.g. no printouts of unnecessary results without good reason, there aren’t long printouts of which iteration a loop is on, there aren’t long sections of commented-out code, etc.). There is no piece of unnecessary / redundant code, and no unnecessary / redundant text\n",
    "    - The code follows the [python style guide](https://peps.python.org/pep-0008/) for naming variables, spaces, indentation, etc.\n",
    "    - The code should be commented and clearly written with intuitive variable names. For example, use variable names such as number_input, factor, hours, instead of a,b,xyz, etc."
   ]
  },
  {
   "cell_type": "markdown",
   "metadata": {},
   "source": [
    "### Question 1 (3 points)"
   ]
  },
  {
   "cell_type": "markdown",
   "metadata": {},
   "source": [
    "a) Write a program that counts down from 5 and then prints the message \"Go\"."
   ]
  },
  {
   "cell_type": "code",
   "execution_count": 1,
   "metadata": {},
   "outputs": [
    {
     "name": "stdout",
     "output_type": "stream",
     "text": [
      "5\n",
      "4\n",
      "3\n",
      "2\n",
      "1\n",
      "Go\n"
     ]
    }
   ],
   "source": [
    "for i in range(5, 0, -1):\n",
    "    print(i)\n",
    "print(\"Go\")"
   ]
  },
  {
   "cell_type": "markdown",
   "metadata": {},
   "source": [
    "b) Write a program that asks the user for an integer, then counts down from that integer and then prints the message \"Go\". Use a try-except to ensure the user entered an integer. If it is not an integer, return the message \"You must enter an integer\". Show the output of the program if the user inputs `3`. "
   ]
  },
  {
   "cell_type": "code",
   "execution_count": 3,
   "metadata": {},
   "outputs": [
    {
     "name": "stdout",
     "output_type": "stream",
     "text": [
      "3\n",
      "2\n",
      "1\n",
      "Go\n"
     ]
    }
   ],
   "source": [
    "try:\n",
    "    num = int(input(\"Enter an integer: \"))\n",
    "    for i in range(num, 0, -1):\n",
    "        print(i)\n",
    "    print(\"Go\")\n",
    "except ValueError:\n",
    "    print(\"You must enter an integer\")"
   ]
  },
  {
   "cell_type": "markdown",
   "metadata": {},
   "source": [
    "c) Copy and modify part b to allow the user to keep entering input until they correctly enter an integer (ie: don't end after the except). Show the output of the program if the user first inputs `8.9` and then inputs `7`. "
   ]
  },
  {
   "cell_type": "code",
   "execution_count": 4,
   "metadata": {},
   "outputs": [
    {
     "name": "stdout",
     "output_type": "stream",
     "text": [
      "You must enter an integer\n",
      "7\n",
      "6\n",
      "5\n",
      "4\n",
      "3\n",
      "2\n",
      "1\n",
      "Go\n"
     ]
    }
   ],
   "source": [
    "while True:\n",
    "    try:\n",
    "        num = int(input(\"Enter an integer: \"))\n",
    "        break\n",
    "    except ValueError:\n",
    "        print(\"You must enter an integer\")\n",
    "\n",
    "for i in range(num, 0, -1):\n",
    "    print(i)\n",
    "print(\"Go\")"
   ]
  },
  {
   "cell_type": "markdown",
   "metadata": {},
   "source": [
    "### Question 2 (2 points)"
   ]
  },
  {
   "cell_type": "markdown",
   "metadata": {},
   "source": [
    "Print a star formation as follows:\n",
    "\n",
    "                                             * \n",
    "                                             * * \n",
    "                                             * * * \n",
    "                                             * * * * \n",
    "                                             \n",
    "Ask the user to input the height of the formation first. For example, 4 should return the formation above. Show the output of the program if the user inputs `5`. "
   ]
  },
  {
   "cell_type": "code",
   "execution_count": 1,
   "metadata": {},
   "outputs": [
    {
     "name": "stdout",
     "output_type": "stream",
     "text": [
      "*\n",
      "* *\n",
      "* * *\n",
      "* * * *\n",
      "* * * * *\n"
     ]
    }
   ],
   "source": [
    "try:\n",
    "    height = int(input(\"Enter the height of the formation: \"))\n",
    "    for i in range(1, height + 1):\n",
    "        print(\" \".join([\"*\"] * i))\n",
    "except ValueError:\n",
    "    print(\"You must enter an integer\")"
   ]
  },
  {
   "cell_type": "markdown",
   "metadata": {},
   "source": [
    "### Question 3 (6 points)"
   ]
  },
  {
   "cell_type": "markdown",
   "metadata": {},
   "source": [
    "a) Write a program where you play 3 \"Rock, Paper, Scissors\" games against the computer. Simulate a random choice for the computer each game and ask the user to enter either rock, paper, or scissors. Print the number of times the user won out of 3 games. Show the output of the program after playing the game. \n",
    "\n",
    "Recall: rock beats scissors; scissors beats paper; paper beats rock.\n",
    "\n",
    "Example:\n",
    "\n",
    "                                    \"You won <num_win> out of 3 games.\""
   ]
  },
  {
   "cell_type": "code",
   "execution_count": 4,
   "metadata": {},
   "outputs": [
    {
     "name": "stdout",
     "output_type": "stream",
     "text": [
      "Round 1:\n",
      "You chose: rock\n",
      "Computer chose: scissors\n",
      "Win\n",
      "\n",
      "Round 2:\n",
      "You chose: paper\n",
      "Computer chose: scissors\n",
      "Lose\n",
      "\n",
      "Round 3:\n",
      "You chose: scissors\n",
      "Computer chose: rock\n",
      "Lose\n",
      "\n",
      "You won 1 out of 3 games.\n"
     ]
    }
   ],
   "source": [
    "import random as rm\n",
    "\n",
    "user_wins = 0\n",
    "choices = ['rock', 'paper', 'scissors']\n",
    "\n",
    "for i in range(3):\n",
    "    user_choice = input(\"Enter rock, paper, or scissors: \").lower()\n",
    "    while user_choice not in choices:\n",
    "        user_choice = input(\"Invalid input. Enter rock, paper, or scissors: \").lower()\n",
    "\n",
    "    comp_choice = rm.choice(choices)\n",
    "    print(f\"Round {i + 1}:\")\n",
    "    print(f\"You chose: {user_choice}\")\n",
    "    print(f\"Computer chose: {comp_choice}\")\n",
    "\n",
    "    if user_choice == comp_choice:\n",
    "        print(\"Tie\\n\")\n",
    "    elif (user_choice == 'rock' and comp_choice == 'scissors') or \\\n",
    "         (user_choice == 'scissors' and comp_choice == 'paper') or \\\n",
    "         (user_choice == 'paper' and comp_choice == 'rock'):\n",
    "        print(\"Win\\n\")\n",
    "        user_wins += 1\n",
    "    else:\n",
    "        print(\"Lose\\n\")\n",
    "\n",
    "print(f\"You won {user_wins} out of 3 games.\")\n"
   ]
  },
  {
   "cell_type": "markdown",
   "metadata": {},
   "source": [
    "b) Write a program where you play \"Rock, Paper, Scissors\" games against the computer until you have won 3 games. Simulate a random choice for the computer each game and ask the user to enter either rock, paper, or scissors. Print the number of games it took to win 3 times. Show the output of the program after playing the game.\n",
    "\n",
    "Example:\n",
    "\n",
    "                                    \"You won 3 out of <num_games> games.\""
   ]
  },
  {
   "cell_type": "code",
   "execution_count": 5,
   "metadata": {},
   "outputs": [
    {
     "name": "stdout",
     "output_type": "stream",
     "text": [
      "Round 1:\n",
      "You chose: rock\n",
      "Computer chose: scissors\n",
      "Result: You win this round!\n",
      "\n",
      "Round 2:\n",
      "You chose: rock\n",
      "Computer chose: scissors\n",
      "Result: You win this round!\n",
      "\n",
      "Round 3:\n",
      "You chose: paper\n",
      "Computer chose: rock\n",
      "Result: You win this round!\n",
      "\n",
      "You won 3 out of 3 games.\n"
     ]
    }
   ],
   "source": [
    "import random as rm\n",
    "\n",
    "user_wins = 0\n",
    "total_games = 0\n",
    "choices = ['rock', 'paper', 'scissors']\n",
    "\n",
    "while user_wins < 3:\n",
    "    user_choice = input(\"Enter rock, paper, or scissors: \").lower()\n",
    "    while user_choice not in choices:\n",
    "        user_choice = input(\"Invalid input. Enter rock, paper, or scissors: \").lower()\n",
    "\n",
    "    comp_choice = rm.choice(choices)\n",
    "    total_games += 1\n",
    "    print(f\"Round {total_games}:\")\n",
    "    print(f\"You chose: {user_choice}\")\n",
    "    print(f\"Computer chose: {comp_choice}\")\n",
    "\n",
    "    if user_choice == comp_choice:\n",
    "        print(\"Result: It's a tie!\\n\")\n",
    "    elif (user_choice == 'rock' and comp_choice == 'scissors') or \\\n",
    "         (user_choice == 'scissors' and comp_choice == 'paper') or \\\n",
    "         (user_choice == 'paper' and comp_choice == 'rock'):\n",
    "        print(\"Result: You win this round!\\n\")\n",
    "        user_wins += 1\n",
    "    else:\n",
    "        print(\"Result: Computer wins this round.\\n\")\n",
    "\n",
    "print(f\"You won 3 out of {total_games} games.\")"
   ]
  },
  {
   "cell_type": "markdown",
   "metadata": {},
   "source": [
    "### Question 4 (6 points)"
   ]
  },
  {
   "cell_type": "markdown",
   "metadata": {},
   "source": [
    "a) Write a program (loop) that prints all the factors of a positive integer input by the user. A factor is any positive integer that divides the number and leaves no remainder. Show the output of the program if the user inputs `24`. \n",
    "\n",
    "Example: The factors of 8 are 1, 2, 4, 8."
   ]
  },
  {
   "cell_type": "code",
   "execution_count": 17,
   "metadata": {},
   "outputs": [
    {
     "name": "stdout",
     "output_type": "stream",
     "text": [
      "The factors of 24 are 1, 2, 3, 4, 6, 8, 12, 24\n"
     ]
    }
   ],
   "source": [
    "def print_factors(num):\n",
    "    print(f\"The factors of {num} are \", end=\"\")\n",
    "    factors = [i for i in range(1, num + 1) if num % i == 0]\n",
    "    print(\", \".join(map(str, factors)))\n",
    "\n",
    "num = int(input(\"Enter a positive integer: \"))\n",
    "\n",
    "print_factors(num)"
   ]
  },
  {
   "cell_type": "markdown",
   "metadata": {},
   "source": [
    "b) Write a **function** called `number_of_factors` that takes an integer and returns how many factors the number has. Run your function with `24` to check if it works."
   ]
  },
  {
   "cell_type": "code",
   "execution_count": 18,
   "metadata": {},
   "outputs": [
    {
     "name": "stdout",
     "output_type": "stream",
     "text": [
      "The number of factors of 24 is: 8\n"
     ]
    }
   ],
   "source": [
    "def number_of_factors(num):\n",
    "    return len([i for i in range(1, num + 1) if num % i == 0])\n",
    "\n",
    "num = 24\n",
    "factor_count = number_of_factors(num)\n",
    "print(f\"The number of factors of {num} is: {factor_count}\")\n"
   ]
  },
  {
   "cell_type": "markdown",
   "metadata": {},
   "source": [
    "### Question 5 (6 points)"
   ]
  },
  {
   "cell_type": "markdown",
   "metadata": {},
   "source": [
    "a) Write a program (loop) that identifies whether a positive integer input by the user is prime or not. A prime number is a number whose only divisors are 1 and itself. Show the output when the program is used to check if `89` is prime or not."
   ]
  },
  {
   "cell_type": "code",
   "execution_count": 19,
   "metadata": {},
   "outputs": [
    {
     "name": "stdout",
     "output_type": "stream",
     "text": [
      "89 is a prime number.\n"
     ]
    }
   ],
   "source": [
    "def is_prime(num):\n",
    "    if num <= 1:\n",
    "        return False\n",
    "    for i in range(2, int(num ** 0.5) + 1):\n",
    "        if num % i == 0:\n",
    "            return False\n",
    "    return True\n",
    "\n",
    "num = int(input(\"Enter a positive integer: \"))\n",
    "\n",
    "if is_prime(num):\n",
    "    print(f\"{num} is a prime number.\")\n",
    "else:\n",
    "    print(f\"{num} is not a prime number.\")"
   ]
  },
  {
   "cell_type": "markdown",
   "metadata": {},
   "source": [
    "b) Write a **function** that checks if a positive integer is prime or not. It should take one integer input and return a boolean. Run your function with `197` to check if it works."
   ]
  },
  {
   "cell_type": "code",
   "execution_count": 21,
   "metadata": {},
   "outputs": [
    {
     "name": "stdout",
     "output_type": "stream",
     "text": [
      "Is 197 a prime number? True\n"
     ]
    }
   ],
   "source": [
    "def is_prime(num):\n",
    "    if num <= 1:\n",
    "        return False\n",
    "    for i in range(2, int(num ** 0.5) + 1):\n",
    "        if num % i == 0:\n",
    "            return False\n",
    "    return True\n",
    "\n",
    "num = int(input(\"Enter a positive integer: \"))\n",
    "result = is_prime(num)\n",
    "print(f\"Is {num} a prime number? {result}\")"
   ]
  },
  {
   "cell_type": "markdown",
   "metadata": {},
   "source": [
    "### Question 6 (4 points)"
   ]
  },
  {
   "cell_type": "markdown",
   "metadata": {},
   "source": [
    "Write a function that calculates the area of a rectangle. The function should have an input for length (in inches) and width (in inches). And have 2 ouputs: the area in terms of square inches and the area in terms of square feet. There are 12 inches in 1 foot. Run your function with a length of 102 inches and width of 60 inches to check if it works."
   ]
  },
  {
   "cell_type": "code",
   "execution_count": 6,
   "metadata": {},
   "outputs": [
    {
     "name": "stdout",
     "output_type": "stream",
     "text": [
      "Area in square inches: 6120\n",
      "Area in square feet: 42.50\n"
     ]
    }
   ],
   "source": [
    "def rectangle_area(length_in, width_in):\n",
    "    area_sq_in = length_in * width_in\n",
    "    area_sq_ft = area_sq_in / (12 * 12)\n",
    "    return area_sq_in, area_sq_ft\n",
    "\n",
    "area_in, area_ft = rectangle_area(102, 60)\n",
    "\n",
    "print(f\"Area in square inches: {area_in}\")\n",
    "print(f\"Area in square feet: {area_ft:.2f}\")"
   ]
  },
  {
   "cell_type": "markdown",
   "metadata": {},
   "source": [
    "### Question 7 (3 points)"
   ]
  },
  {
   "cell_type": "markdown",
   "metadata": {},
   "source": [
    "Write a function that takes a word and a sentence as two string inputs and returns the number of times the word occurs in the sentence as the output.\n",
    "\n",
    "Run your function with **\"sea\"** and **“Sea shells are on the sea shore when the sea is calm.”** inputs to check if it works. Your function should work for any word and sentence. \n",
    "\n",
    "Note: at this time it does not have to differentiate a distinct word just if it appears in any form. Example: **“The sea gives me nausea.”** would return 2."
   ]
  },
  {
   "cell_type": "code",
   "execution_count": 24,
   "metadata": {},
   "outputs": [
    {
     "name": "stdout",
     "output_type": "stream",
     "text": [
      "The word 'sea' occurs 3 times in the sentence.\n"
     ]
    }
   ],
   "source": [
    "def count_word_occurrences(word, sentence):\n",
    "    word_lower = word.lower()\n",
    "    sentence_lower = sentence.lower()\n",
    "    count = sentence_lower.split().count(word_lower)\n",
    "    return count\n",
    "word = input(\"Enter a word: \")\n",
    "sentence = input(\"Enter a sentence: \")\n",
    "occurrences = count_word_occurrences(word, sentence)\n",
    "\n",
    "print(f\"The word '{word}' occurs {occurrences} times in the sentence.\")\n"
   ]
  }
 ],
 "metadata": {
  "kernelspec": {
   "display_name": ".venv",
   "language": "python",
   "name": "python3"
  },
  "language_info": {
   "codemirror_mode": {
    "name": "ipython",
    "version": 3
   },
   "file_extension": ".py",
   "mimetype": "text/x-python",
   "name": "python",
   "nbconvert_exporter": "python",
   "pygments_lexer": "ipython3",
   "version": "3.13.2"
  }
 },
 "nbformat": 4,
 "nbformat_minor": 4
}
